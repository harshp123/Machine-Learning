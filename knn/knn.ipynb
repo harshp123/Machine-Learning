{
 "cells": [
  {
   "cell_type": "code",
   "execution_count": 80,
   "metadata": {
    "collapsed": true
   },
   "outputs": [],
   "source": [
    "import pandas as pd\n",
    "import seaborn as sns"
   ]
  },
  {
   "cell_type": "code",
   "execution_count": 81,
   "metadata": {
    "collapsed": true
   },
   "outputs": [],
   "source": [
    "df=pd.read_csv(r\"C:\\Users\\harsh\\datasets\\IRIS.csv\")"
   ]
  },
  {
   "cell_type": "code",
   "execution_count": 82,
   "metadata": {
    "collapsed": false
   },
   "outputs": [
    {
     "data": {
      "text/html": [
       "<div>\n",
       "<style scoped>\n",
       "    .dataframe tbody tr th:only-of-type {\n",
       "        vertical-align: middle;\n",
       "    }\n",
       "\n",
       "    .dataframe tbody tr th {\n",
       "        vertical-align: top;\n",
       "    }\n",
       "\n",
       "    .dataframe thead th {\n",
       "        text-align: right;\n",
       "    }\n",
       "</style>\n",
       "<table border=\"1\" class=\"dataframe\">\n",
       "  <thead>\n",
       "    <tr style=\"text-align: right;\">\n",
       "      <th></th>\n",
       "      <th>sepal_length</th>\n",
       "      <th>sepal_width</th>\n",
       "      <th>petal_length</th>\n",
       "      <th>petal_width</th>\n",
       "      <th>species</th>\n",
       "    </tr>\n",
       "  </thead>\n",
       "  <tbody>\n",
       "    <tr>\n",
       "      <th>0</th>\n",
       "      <td>5.1</td>\n",
       "      <td>3.5</td>\n",
       "      <td>1.4</td>\n",
       "      <td>0.2</td>\n",
       "      <td>Iris-setosa</td>\n",
       "    </tr>\n",
       "    <tr>\n",
       "      <th>1</th>\n",
       "      <td>4.9</td>\n",
       "      <td>3.0</td>\n",
       "      <td>1.4</td>\n",
       "      <td>0.2</td>\n",
       "      <td>Iris-setosa</td>\n",
       "    </tr>\n",
       "    <tr>\n",
       "      <th>2</th>\n",
       "      <td>4.7</td>\n",
       "      <td>3.2</td>\n",
       "      <td>1.3</td>\n",
       "      <td>0.2</td>\n",
       "      <td>Iris-setosa</td>\n",
       "    </tr>\n",
       "    <tr>\n",
       "      <th>3</th>\n",
       "      <td>4.6</td>\n",
       "      <td>3.1</td>\n",
       "      <td>1.5</td>\n",
       "      <td>0.2</td>\n",
       "      <td>Iris-setosa</td>\n",
       "    </tr>\n",
       "    <tr>\n",
       "      <th>4</th>\n",
       "      <td>5.0</td>\n",
       "      <td>3.6</td>\n",
       "      <td>1.4</td>\n",
       "      <td>0.2</td>\n",
       "      <td>Iris-setosa</td>\n",
       "    </tr>\n",
       "  </tbody>\n",
       "</table>\n",
       "</div>"
      ],
      "text/plain": [
       "   sepal_length  sepal_width  petal_length  petal_width      species\n",
       "0           5.1          3.5           1.4          0.2  Iris-setosa\n",
       "1           4.9          3.0           1.4          0.2  Iris-setosa\n",
       "2           4.7          3.2           1.3          0.2  Iris-setosa\n",
       "3           4.6          3.1           1.5          0.2  Iris-setosa\n",
       "4           5.0          3.6           1.4          0.2  Iris-setosa"
      ]
     },
     "execution_count": 82,
     "metadata": {},
     "output_type": "execute_result"
    }
   ],
   "source": [
    "df.head()"
   ]
  },
  {
   "cell_type": "code",
   "execution_count": 83,
   "metadata": {
    "collapsed": false
   },
   "outputs": [
    {
     "data": {
      "text/html": [
       "<div>\n",
       "<style scoped>\n",
       "    .dataframe tbody tr th:only-of-type {\n",
       "        vertical-align: middle;\n",
       "    }\n",
       "\n",
       "    .dataframe tbody tr th {\n",
       "        vertical-align: top;\n",
       "    }\n",
       "\n",
       "    .dataframe thead th {\n",
       "        text-align: right;\n",
       "    }\n",
       "</style>\n",
       "<table border=\"1\" class=\"dataframe\">\n",
       "  <thead>\n",
       "    <tr style=\"text-align: right;\">\n",
       "      <th></th>\n",
       "      <th>sepal_length</th>\n",
       "      <th>sepal_width</th>\n",
       "      <th>petal_length</th>\n",
       "      <th>petal_width</th>\n",
       "    </tr>\n",
       "  </thead>\n",
       "  <tbody>\n",
       "    <tr>\n",
       "      <th>count</th>\n",
       "      <td>150.000000</td>\n",
       "      <td>150.000000</td>\n",
       "      <td>150.000000</td>\n",
       "      <td>150.000000</td>\n",
       "    </tr>\n",
       "    <tr>\n",
       "      <th>mean</th>\n",
       "      <td>5.843333</td>\n",
       "      <td>3.054000</td>\n",
       "      <td>3.758667</td>\n",
       "      <td>1.198667</td>\n",
       "    </tr>\n",
       "    <tr>\n",
       "      <th>std</th>\n",
       "      <td>0.828066</td>\n",
       "      <td>0.433594</td>\n",
       "      <td>1.764420</td>\n",
       "      <td>0.763161</td>\n",
       "    </tr>\n",
       "    <tr>\n",
       "      <th>min</th>\n",
       "      <td>4.300000</td>\n",
       "      <td>2.000000</td>\n",
       "      <td>1.000000</td>\n",
       "      <td>0.100000</td>\n",
       "    </tr>\n",
       "    <tr>\n",
       "      <th>25%</th>\n",
       "      <td>5.100000</td>\n",
       "      <td>2.800000</td>\n",
       "      <td>1.600000</td>\n",
       "      <td>0.300000</td>\n",
       "    </tr>\n",
       "    <tr>\n",
       "      <th>50%</th>\n",
       "      <td>5.800000</td>\n",
       "      <td>3.000000</td>\n",
       "      <td>4.350000</td>\n",
       "      <td>1.300000</td>\n",
       "    </tr>\n",
       "    <tr>\n",
       "      <th>75%</th>\n",
       "      <td>6.400000</td>\n",
       "      <td>3.300000</td>\n",
       "      <td>5.100000</td>\n",
       "      <td>1.800000</td>\n",
       "    </tr>\n",
       "    <tr>\n",
       "      <th>max</th>\n",
       "      <td>7.900000</td>\n",
       "      <td>4.400000</td>\n",
       "      <td>6.900000</td>\n",
       "      <td>2.500000</td>\n",
       "    </tr>\n",
       "  </tbody>\n",
       "</table>\n",
       "</div>"
      ],
      "text/plain": [
       "       sepal_length  sepal_width  petal_length  petal_width\n",
       "count    150.000000   150.000000    150.000000   150.000000\n",
       "mean       5.843333     3.054000      3.758667     1.198667\n",
       "std        0.828066     0.433594      1.764420     0.763161\n",
       "min        4.300000     2.000000      1.000000     0.100000\n",
       "25%        5.100000     2.800000      1.600000     0.300000\n",
       "50%        5.800000     3.000000      4.350000     1.300000\n",
       "75%        6.400000     3.300000      5.100000     1.800000\n",
       "max        7.900000     4.400000      6.900000     2.500000"
      ]
     },
     "execution_count": 83,
     "metadata": {},
     "output_type": "execute_result"
    }
   ],
   "source": [
    "df.describe()"
   ]
  },
  {
   "cell_type": "code",
   "execution_count": 84,
   "metadata": {
    "collapsed": false
   },
   "outputs": [
    {
     "data": {
      "text/plain": [
       "species\n",
       "Iris-setosa        50\n",
       "Iris-versicolor    50\n",
       "Iris-virginica     50\n",
       "dtype: int64"
      ]
     },
     "execution_count": 84,
     "metadata": {},
     "output_type": "execute_result"
    }
   ],
   "source": [
    "df.groupby('species').size()"
   ]
  },
  {
   "cell_type": "code",
   "execution_count": 85,
   "metadata": {
    "collapsed": false
   },
   "outputs": [
    {
     "data": {
      "text/plain": [
       "sepal_length    0\n",
       "sepal_width     0\n",
       "petal_length    0\n",
       "petal_width     0\n",
       "species         0\n",
       "dtype: int64"
      ]
     },
     "execution_count": 85,
     "metadata": {},
     "output_type": "execute_result"
    }
   ],
   "source": [
    "df.isnull().sum()"
   ]
  },
  {
   "cell_type": "code",
   "execution_count": 86,
   "metadata": {
    "collapsed": false
   },
   "outputs": [
    {
     "name": "stdout",
     "output_type": "stream",
     "text": [
      "<class 'pandas.core.frame.DataFrame'>\n",
      "RangeIndex: 150 entries, 0 to 149\n",
      "Data columns (total 5 columns):\n",
      "sepal_length    150 non-null float64\n",
      "sepal_width     150 non-null float64\n",
      "petal_length    150 non-null float64\n",
      "petal_width     150 non-null float64\n",
      "species         150 non-null object\n",
      "dtypes: float64(4), object(1)\n",
      "memory usage: 5.9+ KB\n"
     ]
    }
   ],
   "source": [
    "df.info()"
   ]
  },
  {
   "cell_type": "code",
   "execution_count": 87,
   "metadata": {
    "collapsed": false
   },
   "outputs": [
    {
     "data": {
      "text/plain": [
       "<matplotlib.axes._subplots.AxesSubplot at 0x27329585b38>"
      ]
     },
     "execution_count": 87,
     "metadata": {},
     "output_type": "execute_result"
    },
    {
     "data": {
      "image/png": "[encoded data removed]",
      "text/plain": [
       "<Figure size 432x288 with 1 Axes>"
      ]
     },
     "metadata": {
      "needs_background": "light"
     },
     "output_type": "display_data"
    }
   ],
   "source": [
    "sns.boxplot(data=df)"
   ]
  },
  {
   "cell_type": "code",
   "execution_count": 88,
   "metadata": {
    "collapsed": true
   },
   "outputs": [],
   "source": [
    "from scipy import stats\n",
    "import numpy as np"
   ]
  },
  {
   "cell_type": "code",
   "execution_count": 89,
   "metadata": {
    "collapsed": true
   },
   "outputs": [],
   "source": [
    "ds=df.drop(\"species\",axis=1)"
   ]
  },
  {
   "cell_type": "code",
   "execution_count": 90,
   "metadata": {
    "collapsed": true
   },
   "outputs": [],
   "source": [
    "z=np.abs(stats.zscore(ds))\n",
    "ds=ds[(z<3).all(axis=1)]"
   ]
  },
  {
   "cell_type": "code",
   "execution_count": 91,
   "metadata": {
    "collapsed": false
   },
   "outputs": [
    {
     "name": "stdout",
     "output_type": "stream",
     "text": [
      "     sepal_length  sepal_width  petal_length  petal_width\n",
      "0             5.1          3.5           1.4          0.2\n",
      "1             4.9          3.0           1.4          0.2\n",
      "2             4.7          3.2           1.3          0.2\n",
      "3             4.6          3.1           1.5          0.2\n",
      "4             5.0          3.6           1.4          0.2\n",
      "5             5.4          3.9           1.7          0.4\n",
      "6             4.6          3.4           1.4          0.3\n",
      "7             5.0          3.4           1.5          0.2\n",
      "8             4.4          2.9           1.4          0.2\n",
      "9             4.9          3.1           1.5          0.1\n",
      "10            5.4          3.7           1.5          0.2\n",
      "11            4.8          3.4           1.6          0.2\n",
      "12            4.8          3.0           1.4          0.1\n",
      "13            4.3          3.0           1.1          0.1\n",
      "14            5.8          4.0           1.2          0.2\n",
      "16            5.4          3.9           1.3          0.4\n",
      "17            5.1          3.5           1.4          0.3\n",
      "18            5.7          3.8           1.7          0.3\n",
      "19            5.1          3.8           1.5          0.3\n",
      "20            5.4          3.4           1.7          0.2\n",
      "21            5.1          3.7           1.5          0.4\n",
      "22            4.6          3.6           1.0          0.2\n",
      "23            5.1          3.3           1.7          0.5\n",
      "24            4.8          3.4           1.9          0.2\n",
      "25            5.0          3.0           1.6          0.2\n",
      "26            5.0          3.4           1.6          0.4\n",
      "27            5.2          3.5           1.5          0.2\n",
      "28            5.2          3.4           1.4          0.2\n",
      "29            4.7          3.2           1.6          0.2\n",
      "30            4.8          3.1           1.6          0.2\n",
      "..            ...          ...           ...          ...\n",
      "120           6.9          3.2           5.7          2.3\n",
      "121           5.6          2.8           4.9          2.0\n",
      "122           7.7          2.8           6.7          2.0\n",
      "123           6.3          2.7           4.9          1.8\n",
      "124           6.7          3.3           5.7          2.1\n",
      "125           7.2          3.2           6.0          1.8\n",
      "126           6.2          2.8           4.8          1.8\n",
      "127           6.1          3.0           4.9          1.8\n",
      "128           6.4          2.8           5.6          2.1\n",
      "129           7.2          3.0           5.8          1.6\n",
      "130           7.4          2.8           6.1          1.9\n",
      "131           7.9          3.8           6.4          2.0\n",
      "132           6.4          2.8           5.6          2.2\n",
      "133           6.3          2.8           5.1          1.5\n",
      "134           6.1          2.6           5.6          1.4\n",
      "135           7.7          3.0           6.1          2.3\n",
      "136           6.3          3.4           5.6          2.4\n",
      "137           6.4          3.1           5.5          1.8\n",
      "138           6.0          3.0           4.8          1.8\n",
      "139           6.9          3.1           5.4          2.1\n",
      "140           6.7          3.1           5.6          2.4\n",
      "141           6.9          3.1           5.1          2.3\n",
      "142           5.8          2.7           5.1          1.9\n",
      "143           6.8          3.2           5.9          2.3\n",
      "144           6.7          3.3           5.7          2.5\n",
      "145           6.7          3.0           5.2          2.3\n",
      "146           6.3          2.5           5.0          1.9\n",
      "147           6.5          3.0           5.2          2.0\n",
      "148           6.2          3.4           5.4          2.3\n",
      "149           5.9          3.0           5.1          1.8\n",
      "\n",
      "[149 rows x 4 columns]\n"
     ]
    }
   ],
   "source": [
    "print(ds)"
   ]
  },
  {
   "cell_type": "code",
   "execution_count": 92,
   "metadata": {
    "collapsed": false,
    "scrolled": true
   },
   "outputs": [
    {
     "name": "stdout",
     "output_type": "stream",
     "text": [
      "     sepal_length  sepal_width  petal_length  petal_width         species\n",
      "0             5.1          3.5           1.4          0.2     Iris-setosa\n",
      "1             4.9          3.0           1.4          0.2     Iris-setosa\n",
      "2             4.7          3.2           1.3          0.2     Iris-setosa\n",
      "3             4.6          3.1           1.5          0.2     Iris-setosa\n",
      "4             5.0          3.6           1.4          0.2     Iris-setosa\n",
      "5             5.4          3.9           1.7          0.4     Iris-setosa\n",
      "6             4.6          3.4           1.4          0.3     Iris-setosa\n",
      "7             5.0          3.4           1.5          0.2     Iris-setosa\n",
      "8             4.4          2.9           1.4          0.2     Iris-setosa\n",
      "9             4.9          3.1           1.5          0.1     Iris-setosa\n",
      "10            5.4          3.7           1.5          0.2     Iris-setosa\n",
      "11            4.8          3.4           1.6          0.2     Iris-setosa\n",
      "12            4.8          3.0           1.4          0.1     Iris-setosa\n",
      "13            4.3          3.0           1.1          0.1     Iris-setosa\n",
      "14            5.8          4.0           1.2          0.2     Iris-setosa\n",
      "15            NaN          NaN           NaN          NaN     Iris-setosa\n",
      "16            5.4          3.9           1.3          0.4     Iris-setosa\n",
      "17            5.1          3.5           1.4          0.3     Iris-setosa\n",
      "18            5.7          3.8           1.7          0.3     Iris-setosa\n",
      "19            5.1          3.8           1.5          0.3     Iris-setosa\n",
      "20            5.4          3.4           1.7          0.2     Iris-setosa\n",
      "21            5.1          3.7           1.5          0.4     Iris-setosa\n",
      "22            4.6          3.6           1.0          0.2     Iris-setosa\n",
      "23            5.1          3.3           1.7          0.5     Iris-setosa\n",
      "24            4.8          3.4           1.9          0.2     Iris-setosa\n",
      "25            5.0          3.0           1.6          0.2     Iris-setosa\n",
      "26            5.0          3.4           1.6          0.4     Iris-setosa\n",
      "27            5.2          3.5           1.5          0.2     Iris-setosa\n",
      "28            5.2          3.4           1.4          0.2     Iris-setosa\n",
      "29            4.7          3.2           1.6          0.2     Iris-setosa\n",
      "..            ...          ...           ...          ...             ...\n",
      "120           6.9          3.2           5.7          2.3  Iris-virginica\n",
      "121           5.6          2.8           4.9          2.0  Iris-virginica\n",
      "122           7.7          2.8           6.7          2.0  Iris-virginica\n",
      "123           6.3          2.7           4.9          1.8  Iris-virginica\n",
      "124           6.7          3.3           5.7          2.1  Iris-virginica\n",
      "125           7.2          3.2           6.0          1.8  Iris-virginica\n",
      "126           6.2          2.8           4.8          1.8  Iris-virginica\n",
      "127           6.1          3.0           4.9          1.8  Iris-virginica\n",
      "128           6.4          2.8           5.6          2.1  Iris-virginica\n",
      "129           7.2          3.0           5.8          1.6  Iris-virginica\n",
      "130           7.4          2.8           6.1          1.9  Iris-virginica\n",
      "131           7.9          3.8           6.4          2.0  Iris-virginica\n",
      "132           6.4          2.8           5.6          2.2  Iris-virginica\n",
      "133           6.3          2.8           5.1          1.5  Iris-virginica\n",
      "134           6.1          2.6           5.6          1.4  Iris-virginica\n",
      "135           7.7          3.0           6.1          2.3  Iris-virginica\n",
      "136           6.3          3.4           5.6          2.4  Iris-virginica\n",
      "137           6.4          3.1           5.5          1.8  Iris-virginica\n",
      "138           6.0          3.0           4.8          1.8  Iris-virginica\n",
      "139           6.9          3.1           5.4          2.1  Iris-virginica\n",
      "140           6.7          3.1           5.6          2.4  Iris-virginica\n",
      "141           6.9          3.1           5.1          2.3  Iris-virginica\n",
      "142           5.8          2.7           5.1          1.9  Iris-virginica\n",
      "143           6.8          3.2           5.9          2.3  Iris-virginica\n",
      "144           6.7          3.3           5.7          2.5  Iris-virginica\n",
      "145           6.7          3.0           5.2          2.3  Iris-virginica\n",
      "146           6.3          2.5           5.0          1.9  Iris-virginica\n",
      "147           6.5          3.0           5.2          2.0  Iris-virginica\n",
      "148           6.2          3.4           5.4          2.3  Iris-virginica\n",
      "149           5.9          3.0           5.1          1.8  Iris-virginica\n",
      "\n",
      "[150 rows x 5 columns]\n"
     ]
    }
   ],
   "source": [
    "p=df[\"species\"]\n",
    "ds=pd.concat([ds,p],axis=1)\n",
    "print(ds)"
   ]
  },
  {
   "cell_type": "code",
   "execution_count": 102,
   "metadata": {
    "collapsed": false
   },
   "outputs": [
    {
     "name": "stdout",
     "output_type": "stream",
     "text": [
      "     sepal_length  sepal_width  petal_length  petal_width         species\n",
      "0             5.1          3.5           1.4          0.2     Iris-setosa\n",
      "1             4.9          3.0           1.4          0.2     Iris-setosa\n",
      "2             4.7          3.2           1.3          0.2     Iris-setosa\n",
      "3             4.6          3.1           1.5          0.2     Iris-setosa\n",
      "4             5.0          3.6           1.4          0.2     Iris-setosa\n",
      "5             5.4          3.9           1.7          0.4     Iris-setosa\n",
      "6             4.6          3.4           1.4          0.3     Iris-setosa\n",
      "7             5.0          3.4           1.5          0.2     Iris-setosa\n",
      "8             4.4          2.9           1.4          0.2     Iris-setosa\n",
      "9             4.9          3.1           1.5          0.1     Iris-setosa\n",
      "10            5.4          3.7           1.5          0.2     Iris-setosa\n",
      "11            4.8          3.4           1.6          0.2     Iris-setosa\n",
      "12            4.8          3.0           1.4          0.1     Iris-setosa\n",
      "13            4.3          3.0           1.1          0.1     Iris-setosa\n",
      "14            5.8          4.0           1.2          0.2     Iris-setosa\n",
      "16            5.4          3.9           1.3          0.4     Iris-setosa\n",
      "17            5.1          3.5           1.4          0.3     Iris-setosa\n",
      "18            5.7          3.8           1.7          0.3     Iris-setosa\n",
      "19            5.1          3.8           1.5          0.3     Iris-setosa\n",
      "20            5.4          3.4           1.7          0.2     Iris-setosa\n",
      "21            5.1          3.7           1.5          0.4     Iris-setosa\n",
      "22            4.6          3.6           1.0          0.2     Iris-setosa\n",
      "23            5.1          3.3           1.7          0.5     Iris-setosa\n",
      "24            4.8          3.4           1.9          0.2     Iris-setosa\n",
      "25            5.0          3.0           1.6          0.2     Iris-setosa\n",
      "26            5.0          3.4           1.6          0.4     Iris-setosa\n",
      "27            5.2          3.5           1.5          0.2     Iris-setosa\n",
      "28            5.2          3.4           1.4          0.2     Iris-setosa\n",
      "29            4.7          3.2           1.6          0.2     Iris-setosa\n",
      "30            4.8          3.1           1.6          0.2     Iris-setosa\n",
      "..            ...          ...           ...          ...             ...\n",
      "120           6.9          3.2           5.7          2.3  Iris-virginica\n",
      "121           5.6          2.8           4.9          2.0  Iris-virginica\n",
      "122           7.7          2.8           6.7          2.0  Iris-virginica\n",
      "123           6.3          2.7           4.9          1.8  Iris-virginica\n",
      "124           6.7          3.3           5.7          2.1  Iris-virginica\n",
      "125           7.2          3.2           6.0          1.8  Iris-virginica\n",
      "126           6.2          2.8           4.8          1.8  Iris-virginica\n",
      "127           6.1          3.0           4.9          1.8  Iris-virginica\n",
      "128           6.4          2.8           5.6          2.1  Iris-virginica\n",
      "129           7.2          3.0           5.8          1.6  Iris-virginica\n",
      "130           7.4          2.8           6.1          1.9  Iris-virginica\n",
      "131           7.9          3.8           6.4          2.0  Iris-virginica\n",
      "132           6.4          2.8           5.6          2.2  Iris-virginica\n",
      "133           6.3          2.8           5.1          1.5  Iris-virginica\n",
      "134           6.1          2.6           5.6          1.4  Iris-virginica\n",
      "135           7.7          3.0           6.1          2.3  Iris-virginica\n",
      "136           6.3          3.4           5.6          2.4  Iris-virginica\n",
      "137           6.4          3.1           5.5          1.8  Iris-virginica\n",
      "138           6.0          3.0           4.8          1.8  Iris-virginica\n",
      "139           6.9          3.1           5.4          2.1  Iris-virginica\n",
      "140           6.7          3.1           5.6          2.4  Iris-virginica\n",
      "141           6.9          3.1           5.1          2.3  Iris-virginica\n",
      "142           5.8          2.7           5.1          1.9  Iris-virginica\n",
      "143           6.8          3.2           5.9          2.3  Iris-virginica\n",
      "144           6.7          3.3           5.7          2.5  Iris-virginica\n",
      "145           6.7          3.0           5.2          2.3  Iris-virginica\n",
      "146           6.3          2.5           5.0          1.9  Iris-virginica\n",
      "147           6.5          3.0           5.2          2.0  Iris-virginica\n",
      "148           6.2          3.4           5.4          2.3  Iris-virginica\n",
      "149           5.9          3.0           5.1          1.8  Iris-virginica\n",
      "\n",
      "[149 rows x 5 columns]\n"
     ]
    }
   ],
   "source": [
    "ds=ds.dropna()\n",
    "print(ds)"
   ]
  },
  {
   "cell_type": "code",
   "execution_count": 103,
   "metadata": {
    "collapsed": true
   },
   "outputs": [],
   "source": [
    "ds.head()\n",
    "x=ds.drop('species',axis=1)\n",
    "y=ds['species']"
   ]
  },
  {
   "cell_type": "code",
   "execution_count": 104,
   "metadata": {
    "collapsed": true
   },
   "outputs": [],
   "source": [
    "from sklearn.model_selection import train_test_split"
   ]
  },
  {
   "cell_type": "code",
   "execution_count": 105,
   "metadata": {
    "collapsed": true
   },
   "outputs": [],
   "source": [
    "X_train,X_test,Y_train,Y_test=train_test_split(x,y,test_size=0.3,random_state=0)"
   ]
  },
  {
   "cell_type": "code",
   "execution_count": 106,
   "metadata": {
    "collapsed": true
   },
   "outputs": [],
   "source": [
    "from sklearn.neighbors import KNeighborsClassifier"
   ]
  },
  {
   "cell_type": "code",
   "execution_count": 107,
   "metadata": {
    "collapsed": true
   },
   "outputs": [],
   "source": [
    "knn=KNeighborsClassifier(n_neighbors=3)"
   ]
  },
  {
   "cell_type": "code",
   "execution_count": 108,
   "metadata": {
    "collapsed": false
   },
   "outputs": [
    {
     "data": {
      "text/plain": [
       "KNeighborsClassifier(algorithm='auto', leaf_size=30, metric='minkowski',\n",
       "                     metric_params=None, n_jobs=None, n_neighbors=3, p=2,\n",
       "                     weights='uniform')"
      ]
     },
     "execution_count": 108,
     "metadata": {},
     "output_type": "execute_result"
    }
   ],
   "source": [
    "knn.fit(X_train,Y_train)"
   ]
  },
  {
   "cell_type": "code",
   "execution_count": 109,
   "metadata": {
    "collapsed": true
   },
   "outputs": [],
   "source": [
    "p=knn.predict(X_test)"
   ]
  },
  {
   "cell_type": "code",
   "execution_count": 110,
   "metadata": {
    "collapsed": true
   },
   "outputs": [],
   "source": [
    "from sklearn import metrics"
   ]
  },
  {
   "cell_type": "code",
   "execution_count": 111,
   "metadata": {
    "collapsed": false
   },
   "outputs": [
    {
     "data": {
      "text/plain": [
       "array([[16,  0,  0],\n",
       "       [ 0, 15,  3],\n",
       "       [ 0,  1, 10]], dtype=int64)"
      ]
     },
     "execution_count": 111,
     "metadata": {},
     "output_type": "execute_result"
    }
   ],
   "source": [
    "metrics.confusion_matrix(p,Y_test)"
   ]
  },
  {
   "cell_type": "code",
   "execution_count": 112,
   "metadata": {
    "collapsed": false
   },
   "outputs": [
    {
     "name": "stdout",
     "output_type": "stream",
     "text": [
      "                 precision    recall  f1-score   support\n",
      "\n",
      "    Iris-setosa       1.00      1.00      1.00        16\n",
      "Iris-versicolor       0.94      0.83      0.88        18\n",
      " Iris-virginica       0.77      0.91      0.83        11\n",
      "\n",
      "       accuracy                           0.91        45\n",
      "      macro avg       0.90      0.91      0.91        45\n",
      "   weighted avg       0.92      0.91      0.91        45\n",
      "\n"
     ]
    }
   ],
   "source": [
    "print(metrics.classification_report(p,Y_test))"
   ]
  },
  {
   "cell_type": "code",
   "execution_count": 113,
   "metadata": {
    "collapsed": false
   },
   "outputs": [
    {
     "name": "stdout",
     "output_type": "stream",
     "text": [
      "0.9111111111111111\n"
     ]
    }
   ],
   "source": [
    "print(metrics.accuracy_score(p,Y_test))"
   ]
  }
 ],
 "metadata": {
  "kernelspec": {
   "display_name": "Python 2",
   "language": "python",
   "name": "python2"
  },
  "language_info": {
   "codemirror_mode": {
    "name": "ipython",
    "version": 2
   },
   "file_extension": ".py",
   "mimetype": "text/x-python",
   "name": "python",
   "nbconvert_exporter": "python",
   "pygments_lexer": "ipython2",
   "version": "2.7.11"
  }
 },
 "nbformat": 4,
 "nbformat_minor": 2
}
